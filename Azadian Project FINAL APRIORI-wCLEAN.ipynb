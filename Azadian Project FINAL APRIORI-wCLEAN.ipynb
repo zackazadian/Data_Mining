{
 "cells": [
  {
   "cell_type": "markdown",
   "metadata": {},
   "source": [
    "# Project 1 - Apriori\n",
    "## Zack Azadian\n",
    "## October 17, 2019"
   ]
  },
  {
   "cell_type": "code",
   "execution_count": 1,
   "metadata": {},
   "outputs": [],
   "source": [
    "import pandas as pd\n",
    "import numpy as np\n",
    "import matplotlib.pyplot as plt"
   ]
  },
  {
   "cell_type": "code",
   "execution_count": 2,
   "metadata": {},
   "outputs": [],
   "source": [
    "#final_data = pd.read_csv(\"f_adult_clean_data.csv\", index_col=0)"
   ]
  },
  {
   "cell_type": "code",
   "execution_count": 3,
   "metadata": {},
   "outputs": [],
   "source": [
    "data = pd.read_csv(\"adult.data\", header=None)"
   ]
  },
  {
   "cell_type": "code",
   "execution_count": 4,
   "metadata": {},
   "outputs": [
    {
     "name": "stdout",
     "output_type": "stream",
     "text": [
      "Binning\n",
      "Binning complete\n"
     ]
    }
   ],
   "source": [
    "# clean data\n",
    "clean_data = data\n",
    "\n",
    "# age\n",
    "for i in range(len(data)):\n",
    "    clean_data.iloc[i,0] = str(clean_data.iloc[i,0])+'a'\n",
    "\n",
    "# education number\n",
    "for i in range(len(data)):\n",
    "    clean_data.iloc[i,4] = str(clean_data.iloc[i,4])+'en'\n",
    "    \n",
    "# capital gain\n",
    "for i in range(len(data)):\n",
    "    clean_data.iloc[i,10] = str(clean_data.iloc[i,10])+'cg'\n",
    "    \n",
    "# capital loss\n",
    "for i in range(len(data)):\n",
    "    clean_data.iloc[i,11] = str(clean_data.iloc[i,11])+'cl'\n",
    "\n",
    "# hours per week\n",
    "for i in range(len(data)):\n",
    "    clean_data.iloc[i,12] = str(clean_data.iloc[i,12])+'hw'\n",
    "\n",
    "# replace ? with 0\n",
    "clean_data = clean_data.replace(' ?',0)\n",
    "\n",
    "# Binning\n",
    "print('Binning')\n",
    "for i in range(len(clean_data)):\n",
    "\n",
    "    if clean_data.iloc[i,2] <= 50000:\n",
    "        clean_data.iloc[i,2] = '0-50,000'\n",
    "    elif 50000 < clean_data.iloc[i,2] <= 100000:\n",
    "        clean_data.iloc[i,2] = '50,000-100,000'\n",
    "\n",
    "    elif 100000 < clean_data.iloc[i,2] <= 150000:\n",
    "        clean_data.iloc[i,2] = '100,000-150,000' \n",
    "\n",
    "    elif 150000 < clean_data.iloc[i,2] <= 200000:\n",
    "        clean_data.iloc[i,2] = '150,000-200,000'\n",
    "\n",
    "    elif 200000 < clean_data.iloc[i,2] <= 250000:\n",
    "        clean_data.iloc[i,2] = '200,000-250,000'\n",
    "\n",
    "    elif 250000 < clean_data.iloc[i,2] <= 300000:\n",
    "        clean_data.iloc[i,2] = '250,000-300,000' \n",
    "\n",
    "    elif 300000 < clean_data.iloc[i,2] <= 350000:\n",
    "        clean_data.iloc[i,2] = '300,000-350,000' \n",
    "\n",
    "    elif 350000 < clean_data.iloc[i,2] <= 400000:\n",
    "        clean_data.iloc[i,2] = '350,000-400,000' \n",
    "\n",
    "    else:\n",
    "        clean_data.iloc[i,2] = '400,000-1,484,705'\n",
    "        \n",
    "print('Binning complete')\n",
    "        \n",
    "final_data = clean_data"
   ]
  },
  {
   "cell_type": "code",
   "execution_count": 5,
   "metadata": {},
   "outputs": [
    {
     "data": {
      "text/html": [
       "<div>\n",
       "<style scoped>\n",
       "    .dataframe tbody tr th:only-of-type {\n",
       "        vertical-align: middle;\n",
       "    }\n",
       "\n",
       "    .dataframe tbody tr th {\n",
       "        vertical-align: top;\n",
       "    }\n",
       "\n",
       "    .dataframe thead th {\n",
       "        text-align: right;\n",
       "    }\n",
       "</style>\n",
       "<table border=\"1\" class=\"dataframe\">\n",
       "  <thead>\n",
       "    <tr style=\"text-align: right;\">\n",
       "      <th></th>\n",
       "      <th>0</th>\n",
       "      <th>1</th>\n",
       "      <th>2</th>\n",
       "      <th>3</th>\n",
       "      <th>4</th>\n",
       "      <th>5</th>\n",
       "      <th>6</th>\n",
       "      <th>7</th>\n",
       "      <th>8</th>\n",
       "      <th>9</th>\n",
       "      <th>10</th>\n",
       "      <th>11</th>\n",
       "      <th>12</th>\n",
       "      <th>13</th>\n",
       "      <th>14</th>\n",
       "    </tr>\n",
       "  </thead>\n",
       "  <tbody>\n",
       "    <tr>\n",
       "      <th>0</th>\n",
       "      <td>39a</td>\n",
       "      <td>State-gov</td>\n",
       "      <td>50,000-100,000</td>\n",
       "      <td>Bachelors</td>\n",
       "      <td>13en</td>\n",
       "      <td>Never-married</td>\n",
       "      <td>Adm-clerical</td>\n",
       "      <td>Not-in-family</td>\n",
       "      <td>White</td>\n",
       "      <td>Male</td>\n",
       "      <td>2174cg</td>\n",
       "      <td>0cl</td>\n",
       "      <td>40hw</td>\n",
       "      <td>United-States</td>\n",
       "      <td>&lt;=50K</td>\n",
       "    </tr>\n",
       "    <tr>\n",
       "      <th>1</th>\n",
       "      <td>50a</td>\n",
       "      <td>Self-emp-not-inc</td>\n",
       "      <td>50,000-100,000</td>\n",
       "      <td>Bachelors</td>\n",
       "      <td>13en</td>\n",
       "      <td>Married-civ-spouse</td>\n",
       "      <td>Exec-managerial</td>\n",
       "      <td>Husband</td>\n",
       "      <td>White</td>\n",
       "      <td>Male</td>\n",
       "      <td>0cg</td>\n",
       "      <td>0cl</td>\n",
       "      <td>13hw</td>\n",
       "      <td>United-States</td>\n",
       "      <td>&lt;=50K</td>\n",
       "    </tr>\n",
       "    <tr>\n",
       "      <th>2</th>\n",
       "      <td>38a</td>\n",
       "      <td>Private</td>\n",
       "      <td>200,000-250,000</td>\n",
       "      <td>HS-grad</td>\n",
       "      <td>9en</td>\n",
       "      <td>Divorced</td>\n",
       "      <td>Handlers-cleaners</td>\n",
       "      <td>Not-in-family</td>\n",
       "      <td>White</td>\n",
       "      <td>Male</td>\n",
       "      <td>0cg</td>\n",
       "      <td>0cl</td>\n",
       "      <td>40hw</td>\n",
       "      <td>United-States</td>\n",
       "      <td>&lt;=50K</td>\n",
       "    </tr>\n",
       "    <tr>\n",
       "      <th>3</th>\n",
       "      <td>53a</td>\n",
       "      <td>Private</td>\n",
       "      <td>200,000-250,000</td>\n",
       "      <td>11th</td>\n",
       "      <td>7en</td>\n",
       "      <td>Married-civ-spouse</td>\n",
       "      <td>Handlers-cleaners</td>\n",
       "      <td>Husband</td>\n",
       "      <td>Black</td>\n",
       "      <td>Male</td>\n",
       "      <td>0cg</td>\n",
       "      <td>0cl</td>\n",
       "      <td>40hw</td>\n",
       "      <td>United-States</td>\n",
       "      <td>&lt;=50K</td>\n",
       "    </tr>\n",
       "    <tr>\n",
       "      <th>4</th>\n",
       "      <td>28a</td>\n",
       "      <td>Private</td>\n",
       "      <td>300,000-350,000</td>\n",
       "      <td>Bachelors</td>\n",
       "      <td>13en</td>\n",
       "      <td>Married-civ-spouse</td>\n",
       "      <td>Prof-specialty</td>\n",
       "      <td>Wife</td>\n",
       "      <td>Black</td>\n",
       "      <td>Female</td>\n",
       "      <td>0cg</td>\n",
       "      <td>0cl</td>\n",
       "      <td>40hw</td>\n",
       "      <td>Cuba</td>\n",
       "      <td>&lt;=50K</td>\n",
       "    </tr>\n",
       "  </tbody>\n",
       "</table>\n",
       "</div>"
      ],
      "text/plain": [
       "    0                  1                2           3     4   \\\n",
       "0  39a          State-gov   50,000-100,000   Bachelors  13en   \n",
       "1  50a   Self-emp-not-inc   50,000-100,000   Bachelors  13en   \n",
       "2  38a            Private  200,000-250,000     HS-grad   9en   \n",
       "3  53a            Private  200,000-250,000        11th   7en   \n",
       "4  28a            Private  300,000-350,000   Bachelors  13en   \n",
       "\n",
       "                    5                   6               7       8        9   \\\n",
       "0        Never-married        Adm-clerical   Not-in-family   White     Male   \n",
       "1   Married-civ-spouse     Exec-managerial         Husband   White     Male   \n",
       "2             Divorced   Handlers-cleaners   Not-in-family   White     Male   \n",
       "3   Married-civ-spouse   Handlers-cleaners         Husband   Black     Male   \n",
       "4   Married-civ-spouse      Prof-specialty            Wife   Black   Female   \n",
       "\n",
       "       10   11    12              13      14  \n",
       "0  2174cg  0cl  40hw   United-States   <=50K  \n",
       "1     0cg  0cl  13hw   United-States   <=50K  \n",
       "2     0cg  0cl  40hw   United-States   <=50K  \n",
       "3     0cg  0cl  40hw   United-States   <=50K  \n",
       "4     0cg  0cl  40hw            Cuba   <=50K  "
      ]
     },
     "execution_count": 5,
     "metadata": {},
     "output_type": "execute_result"
    }
   ],
   "source": [
    "final_data.head()"
   ]
  },
  {
   "cell_type": "code",
   "execution_count": 6,
   "metadata": {},
   "outputs": [],
   "source": [
    "def build_count_c1_list(data, min_sup, z):\n",
    "    d_C1 = {}\n",
    "    \n",
    "    for i in range(len(data)):\n",
    "        for j in range(data.columns.size):\n",
    "            if data.iloc[i,j] not in d_C1:\n",
    "                d_C1[data.iloc[i,j]] = 1\n",
    "            else:\n",
    "                d_C1[data.iloc[i,j]] += 1\n",
    "                \n",
    "                \n",
    "    min_sup_number = len(data)*min_sup\n",
    "    keys_list = list(d_C1.keys())\n",
    "    \n",
    "    # apply minsup\n",
    "    d_C1_f = {}\n",
    "    for i in keys_list:\n",
    "        if int(d_C1[i]) >= min_sup_number:\n",
    "            d_C1_f[i] = d_C1[i]\n",
    "    print(\"Frequency set length {} with frequency:\".format(z),d_C1_f)\n",
    "    return d_C1_f"
   ]
  },
  {
   "cell_type": "code",
   "execution_count": 7,
   "metadata": {},
   "outputs": [],
   "source": [
    "def apply_min_sup(d, sample, min_sup, z):\n",
    "\n",
    "    min_sup_number = len(sample)*min_sup\n",
    "    \n",
    "    d_lk = {}\n",
    "    keys_list = list(d.keys())\n",
    "    \n",
    "    for i in keys_list:\n",
    "        if int(d[i]) >= min_sup_number:\n",
    "            d_lk[i] = d[i]\n",
    "    print(\"Frequency set length {} with frequency:\".format(z),d_lk)\n",
    "    return d_lk   "
   ]
  },
  {
   "cell_type": "code",
   "execution_count": 8,
   "metadata": {},
   "outputs": [],
   "source": [
    "def cross_join(key1, key2):\n",
    "    tup = []\n",
    "    if type(key1) == str:\n",
    "        tup.append(key1)\n",
    "        tup.append(key2)\n",
    "    else:\n",
    "        for i,j in zip(key1, key2):\n",
    "            if i == j:\n",
    "                tup.append(i)\n",
    "            elif i < j:\n",
    "                tup.append(i)\n",
    "                tup.append(j)\n",
    "                \n",
    "    if len(tup) > (len(key1)+1):\n",
    "         return None\n",
    "    else:\n",
    "         return list(tup)"
   ]
  },
  {
   "cell_type": "code",
   "execution_count": 9,
   "metadata": {},
   "outputs": [],
   "source": [
    "def has_infreq_subset(can, d):\n",
    "    count = 0\n",
    "    \n",
    "    if len(can)==2:\n",
    "        return False \n",
    "        \n",
    "    else:\n",
    "        for i in range(len(can)):\n",
    "            for j in range(i+1, len(can)):\n",
    "                subsets=[]\n",
    "                subsets.append(can[i])\n",
    "                subsets.append(can[j])\n",
    "\n",
    "                if tuple(subsets) in d.keys():\n",
    "                    count += 1\n",
    "            \n",
    "            #print(subsets)\n",
    "            \n",
    "        return count != len(can)"
   ]
  },
  {
   "cell_type": "code",
   "execution_count": 10,
   "metadata": {},
   "outputs": [],
   "source": [
    "def candidate_keys(Lk, z):\n",
    "    \n",
    "    ck = []\n",
    "    key_list = list(Lk.keys())\n",
    "    \n",
    "    if key_list[0] is tuple:\n",
    "        for i in range(len(key_list)):\n",
    "            key_list[i] = list(key_list[i])\n",
    "    else:\n",
    "        key_list.sort()\n",
    "\n",
    "        for i in range(len(key_list)): #0-5\n",
    "            for j in range(i+1, len(key_list)): #1-5\n",
    "                can = cross_join(key_list[i], key_list[j])\n",
    "                \n",
    "                if can is not None:\n",
    "                    if has_infreq_subset(can, Lk) == False:\n",
    "                        if can not in ck:\n",
    "                            \n",
    "                            if len(can)== len(key_list[0])/len(key_list[0]) + z:\n",
    "                                \n",
    "                            #if len(can)== len(key_list[0])/len(key_list[0]) +1:\n",
    "                                \n",
    "                                \n",
    "                                ck.append(can) \n",
    "                                \n",
    "    return ck"
   ]
  },
  {
   "cell_type": "code",
   "execution_count": 11,
   "metadata": {},
   "outputs": [],
   "source": [
    "def tup_scan(cankeys_aslists, dataframe):\n",
    "\n",
    "    d_ck = {}\n",
    "    \n",
    "    for i in range(len(cankeys_aslists)):\n",
    "        scan_count = 0\n",
    "        x = cankeys_aslists[i]\n",
    "        \n",
    "        for k in range(len(dataframe)):\n",
    "            inrow_count = 0\n",
    "            \n",
    "            for j in range(len(x)):\n",
    "                \n",
    "                for l in range(dataframe.columns.size):\n",
    "                    if x[j] == dataframe.iloc[k,l]:\n",
    "                        inrow_count += 1\n",
    "                        \n",
    "            if inrow_count == len(x):\n",
    "                scan_count += 1\n",
    "                \n",
    "            d_ck[tuple(x)] = scan_count \n",
    "                    \n",
    "    return d_ck"
   ]
  },
  {
   "cell_type": "code",
   "execution_count": 12,
   "metadata": {},
   "outputs": [],
   "source": [
    "def z_apriori(dataframe, min_sup):\n",
    "    \n",
    "    z = 1\n",
    "    \n",
    "    Lk = build_count_c1_list(dataframe, min_sup, z)\n",
    "        \n",
    "    while len(Lk) > 0:\n",
    "        Ck_candidate = candidate_keys(Lk, z)\n",
    "        Ck = tup_scan(Ck_candidate, dataframe)\n",
    "        Lk = apply_min_sup(Ck, dataframe, min_sup, z+1)\n",
    "        z+=1 "
   ]
  },
  {
   "cell_type": "code",
   "execution_count": 26,
   "metadata": {},
   "outputs": [
    {
     "name": "stdout",
     "output_type": "stream",
     "text": [
      "Frequency set length 1 with frequency: {' White': 27816, '0cl': 31042, ' United-States': 29170, ' <=50K': 24720, '0cg': 29849}\n",
      "Frequency set length 2 with frequency: {(' <=50K', '0cg'): 23685, (' <=50K', '0cl'): 23974, (' United-States', ' White'): 25621, (' United-States', '0cg'): 26699, (' United-States', '0cl'): 27791, (' White', '0cg'): 25407, (' White', '0cl'): 26470, ('0cg', '0cl'): 28330}\n",
      "Frequency set length 3 with frequency: {(' <=50K', '0cg', '0cl'): 22939, (' United-States', ' White', '0cg'): 23369, (' United-States', ' White', '0cl'): 24349, (' United-States', '0cg', '0cl'): 25320, (' White', '0cg', '0cl'): 24061}\n",
      "Frequency set length 4 with frequency: {}\n"
     ]
    }
   ],
   "source": [
    "z_apriori(final_data, 0.7)"
   ]
  },
  {
   "cell_type": "markdown",
   "metadata": {},
   "source": [
    "## Improvement"
   ]
  },
  {
   "cell_type": "code",
   "execution_count": 14,
   "metadata": {},
   "outputs": [],
   "source": [
    "def Z_build_count_c1_list(data, min_sup, z):\n",
    "    d_C1 = {}\n",
    "    \n",
    "    for i in range(len(data)):\n",
    "        for j in range(data.columns.size):\n",
    "            \n",
    "            if data.iloc[i,j] not in d_C1:\n",
    "                d_C1[data.iloc[i,j]] = 1\n",
    "    \n",
    "            else:\n",
    "                d_C1[data.iloc[i,j]] += 1\n",
    "                \n",
    "    min_sup_number = len(data)*min_sup\n",
    "    keys_list = list(d_C1.keys())\n",
    "    \n",
    "    # apply minsup\n",
    "    d_C1_f = {}\n",
    "    for i in keys_list:\n",
    "        if int(d_C1[i]) >= min_sup_number:\n",
    "            d_C1_f[i] = d_C1[i]\n",
    "            \n",
    "    print(\"Frequency set length {} with frequency:\".format(z),d_C1_f)\n",
    "    \n",
    "    return d_C1_f"
   ]
  },
  {
   "cell_type": "code",
   "execution_count": 15,
   "metadata": {},
   "outputs": [],
   "source": [
    "def Z_apply_min_sup(d, sample, min_sup, z):\n",
    "\n",
    "    min_sup_number = len(sample)*min_sup\n",
    "    \n",
    "    d_lk = {}\n",
    "    keys_list = list(d.keys())\n",
    "    \n",
    "    for i in keys_list:\n",
    "        if int(d[i]) >= min_sup_number:\n",
    "            d_lk[i] = d[i]\n",
    "    print(\"Frequency set length {} with frequency:\".format(z),d_lk)\n",
    "    return d_lk   "
   ]
  },
  {
   "cell_type": "code",
   "execution_count": 16,
   "metadata": {},
   "outputs": [],
   "source": [
    "def improved_z_apriori(dataframe, min_sup):\n",
    "    \n",
    "    def Z_tup_scan(cankeys_aslists, dataframe):\n",
    "\n",
    "        d_ck = {}\n",
    "    \n",
    "        for i in range(len(cankeys_aslists)):\n",
    "            scan_count = 0\n",
    "            x = cankeys_aslists[i]\n",
    "\n",
    "            for k in row_dict.keys():\n",
    "                inrow_count = 0\n",
    "\n",
    "                for j in range(len(x)):\n",
    "                    for l in range(dataframe.columns.size):\n",
    "                        if x[j] == dataframe.iloc[k,l]:\n",
    "                            inrow_count += 1\n",
    "                            temp_row_dict[k]=None\n",
    "\n",
    "                if inrow_count == len(x):\n",
    "                    scan_count += 1\n",
    "\n",
    "            d_ck[tuple(x)] = scan_count \n",
    "\n",
    "        return d_ck\n",
    "    \n",
    "    z = 1\n",
    "    \n",
    "    Lk = Z_build_count_c1_list(dataframe, min_sup, z)\n",
    "    \n",
    "    temp_row_dict = {}\n",
    "    row_dict = {}\n",
    "    for i in range(len(final_data)):\n",
    "        row_dict[i]=None\n",
    "    \n",
    "    while len(Lk) > 0:\n",
    "        Ck_candidate = candidate_keys(Lk, z)\n",
    "        Ck = Z_tup_scan(Ck_candidate, dataframe)\n",
    "        row_dict = temp_row_dict\n",
    "        Lk = Z_apply_min_sup(Ck, dataframe, min_sup, z+1)\n",
    "        z+=1 "
   ]
  },
  {
   "cell_type": "code",
   "execution_count": 17,
   "metadata": {},
   "outputs": [],
   "source": [
    "import time"
   ]
  },
  {
   "cell_type": "code",
   "execution_count": 18,
   "metadata": {},
   "outputs": [
    {
     "name": "stdout",
     "output_type": "stream",
     "text": [
      "Frequency set length 1 with frequency: {' White': 27816, '0cl': 31042, ' United-States': 29170, '0cg': 29849}\n",
      "Frequency set length 2 with frequency: {(' United-States', '0cg'): 26699, (' United-States', '0cl'): 27791, (' White', '0cl'): 26470, ('0cg', '0cl'): 28330}\n",
      "Frequency set length 3 with frequency: {}\n",
      "Time:  63.763564109802246\n"
     ]
    }
   ],
   "source": [
    "# original\n",
    "start = time.time()\n",
    "\n",
    "z_apriori(final_data, 0.8)\n",
    "\n",
    "end = time.time()\n",
    "\n",
    "time_taken = end - start\n",
    "print('Time: ',time_taken)"
   ]
  },
  {
   "cell_type": "code",
   "execution_count": 19,
   "metadata": {
    "scrolled": true
   },
   "outputs": [
    {
     "name": "stdout",
     "output_type": "stream",
     "text": [
      "Frequency set length 1 with frequency: {' White': 27816, '0cl': 31042, ' United-States': 29170, '0cg': 29849}\n",
      "Frequency set length 2 with frequency: {(' United-States', '0cg'): 26699, (' United-States', '0cl'): 27791, (' White', '0cl'): 26470, ('0cg', '0cl'): 28330}\n",
      "Frequency set length 3 with frequency: {}\n",
      "Time:  61.542356967926025\n"
     ]
    }
   ],
   "source": [
    "# improved\n",
    "start = time.time()\n",
    "\n",
    "improved_z_apriori(final_data, 0.8)\n",
    "\n",
    "end = time.time()\n",
    "\n",
    "time_taken = end - start\n",
    "print('Time: ',time_taken)"
   ]
  },
  {
   "cell_type": "code",
   "execution_count": 20,
   "metadata": {},
   "outputs": [
    {
     "name": "stdout",
     "output_type": "stream",
     "text": [
      "Frequency set length 1 with frequency: {' White': 27816, '0cl': 31042, ' United-States': 29170, ' <=50K': 24720, '0cg': 29849}\n",
      "Frequency set length 2 with frequency: {(' <=50K', '0cg'): 23685, (' <=50K', '0cl'): 23974, (' United-States', ' White'): 25621, (' United-States', '0cg'): 26699, (' United-States', '0cl'): 27791, (' White', '0cg'): 25407, (' White', '0cl'): 26470, ('0cg', '0cl'): 28330}\n",
      "Frequency set length 3 with frequency: {(' <=50K', '0cg', '0cl'): 22939, (' United-States', ' White', '0cg'): 23369, (' United-States', ' White', '0cl'): 24349, (' United-States', '0cg', '0cl'): 25320, (' White', '0cg', '0cl'): 24061}\n",
      "Frequency set length 4 with frequency: {}\n",
      "Time:  137.07891011238098\n"
     ]
    }
   ],
   "source": [
    "start = time.time()\n",
    "\n",
    "z_apriori(final_data, 0.7)\n",
    "\n",
    "end = time.time()\n",
    "\n",
    "time_taken = end - start\n",
    "print('Time: ',time_taken)"
   ]
  },
  {
   "cell_type": "code",
   "execution_count": 21,
   "metadata": {},
   "outputs": [
    {
     "name": "stdout",
     "output_type": "stream",
     "text": [
      "Frequency set length 1 with frequency: {' White': 27816, '0cl': 31042, ' United-States': 29170, ' <=50K': 24720, '0cg': 29849}\n",
      "Frequency set length 2 with frequency: {(' <=50K', '0cg'): 23685, (' <=50K', '0cl'): 23974, (' United-States', ' White'): 25621, (' United-States', '0cg'): 26699, (' United-States', '0cl'): 27791, (' White', '0cg'): 25407, (' White', '0cl'): 26470, ('0cg', '0cl'): 28330}\n",
      "Frequency set length 3 with frequency: {(' <=50K', '0cg', '0cl'): 22939, (' United-States', ' White', '0cg'): 23369, (' United-States', ' White', '0cl'): 24349, (' United-States', '0cg', '0cl'): 25320, (' White', '0cg', '0cl'): 24061}\n",
      "Frequency set length 4 with frequency: {}\n",
      "Time:  131.16005992889404\n"
     ]
    }
   ],
   "source": [
    "start = time.time()\n",
    "\n",
    "improved_z_apriori(final_data, 0.7)\n",
    "\n",
    "end = time.time()\n",
    "\n",
    "time_taken = end - start\n",
    "print('Time: ',time_taken)"
   ]
  },
  {
   "cell_type": "code",
   "execution_count": 22,
   "metadata": {},
   "outputs": [],
   "source": [
    "# randomly sampling 5000 rows from Adult Dataframe to run timing tests\n",
    "data5k = final_data.sample(n=5000)"
   ]
  },
  {
   "cell_type": "code",
   "execution_count": 23,
   "metadata": {},
   "outputs": [
    {
     "name": "stdout",
     "output_type": "stream",
     "text": [
      "Frequency set length 1 with frequency: {'0cg': 4581, '0cl': 4754, ' United-States': 4516}\n",
      "Frequency set length 2 with frequency: {}\n",
      "Time:  4.627982139587402\n"
     ]
    }
   ],
   "source": [
    "start = time.time()\n",
    "\n",
    "z_apriori(data5k, 0.9)\n",
    "\n",
    "end = time.time()\n",
    "\n",
    "time_taken = end - start\n",
    "print('Time: ',time_taken)"
   ]
  }
 ],
 "metadata": {
  "kernelspec": {
   "display_name": "Python 3 (ipykernel)",
   "language": "python",
   "name": "python3"
  },
  "language_info": {
   "codemirror_mode": {
    "name": "ipython",
    "version": 3
   },
   "file_extension": ".py",
   "mimetype": "text/x-python",
   "name": "python",
   "nbconvert_exporter": "python",
   "pygments_lexer": "ipython3",
   "version": "3.9.7"
  }
 },
 "nbformat": 4,
 "nbformat_minor": 2
}
