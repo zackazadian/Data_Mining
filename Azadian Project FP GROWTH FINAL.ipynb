{
 "cells": [
  {
   "cell_type": "markdown",
   "metadata": {},
   "source": [
    "# Project 1 - FP-Growth\n",
    "## Zack Azadian\n",
    "## October 17, 2019"
   ]
  },
  {
   "cell_type": "code",
   "execution_count": 1,
   "metadata": {},
   "outputs": [],
   "source": [
    "import pandas as pd\n",
    "import collections\n",
    "import operator"
   ]
  },
  {
   "cell_type": "code",
   "execution_count": 2,
   "metadata": {},
   "outputs": [],
   "source": [
    "# final_data = pd.read_csv(\"f_adult_clean_data.csv\", index_col=0)\n",
    "# test = final_data.iloc[:, [8,13,14] ]\n",
    "# test.head()\n",
    "# final_data.head()"
   ]
  },
  {
   "cell_type": "code",
   "execution_count": 3,
   "metadata": {},
   "outputs": [],
   "source": [
    "data = pd.read_csv(\"adult.data\", header=None)"
   ]
  },
  {
   "cell_type": "code",
   "execution_count": 4,
   "metadata": {},
   "outputs": [
    {
     "name": "stdout",
     "output_type": "stream",
     "text": [
      "Binning\n",
      "Binning complete\n"
     ]
    }
   ],
   "source": [
    "# clean data - takes 10 minutes and 45 seconds\n",
    "clean_data = data\n",
    "\n",
    "# age\n",
    "for i in range(len(data)):\n",
    "    clean_data.iloc[i,0] = str(clean_data.iloc[i,0])+'a'\n",
    "\n",
    "# education number\n",
    "for i in range(len(data)):\n",
    "    clean_data.iloc[i,4] = str(clean_data.iloc[i,4])+'en'\n",
    "    \n",
    "# capital gain\n",
    "for i in range(len(data)):\n",
    "    clean_data.iloc[i,10] = str(clean_data.iloc[i,10])+'cg'\n",
    "    \n",
    "# capital loss\n",
    "for i in range(len(data)):\n",
    "    clean_data.iloc[i,11] = str(clean_data.iloc[i,11])+'cl'\n",
    "\n",
    "# hours per week\n",
    "for i in range(len(data)):\n",
    "    clean_data.iloc[i,12] = str(clean_data.iloc[i,12])+'hw'\n",
    "\n",
    "# replace ? with 0\n",
    "clean_data = clean_data.replace(' ?',0)\n",
    "\n",
    "# Binning\n",
    "print('Binning')\n",
    "for i in range(len(clean_data)):\n",
    "\n",
    "    if clean_data.iloc[i,2] <= 50000:\n",
    "        clean_data.iloc[i,2] = '0-50,000'\n",
    "    elif 50000 < clean_data.iloc[i,2] <= 100000:\n",
    "        clean_data.iloc[i,2] = '50,000-100,000'\n",
    "\n",
    "    elif 100000 < clean_data.iloc[i,2] <= 150000:\n",
    "        clean_data.iloc[i,2] = '100,000-150,000' \n",
    "\n",
    "    elif 150000 < clean_data.iloc[i,2] <= 200000:\n",
    "        clean_data.iloc[i,2] = '150,000-200,000'\n",
    "\n",
    "    elif 200000 < clean_data.iloc[i,2] <= 250000:\n",
    "        clean_data.iloc[i,2] = '200,000-250,000'\n",
    "\n",
    "    elif 250000 < clean_data.iloc[i,2] <= 300000:\n",
    "        clean_data.iloc[i,2] = '250,000-300,000' \n",
    "\n",
    "    elif 300000 < clean_data.iloc[i,2] <= 350000:\n",
    "        clean_data.iloc[i,2] = '300,000-350,000' \n",
    "\n",
    "    elif 350000 < clean_data.iloc[i,2] <= 400000:\n",
    "        clean_data.iloc[i,2] = '350,000-400,000' \n",
    "\n",
    "    else:\n",
    "        clean_data.iloc[i,2] = '400,000-1,484,705'\n",
    "        \n",
    "print('Binning complete')\n",
    "        \n",
    "final_data = clean_data"
   ]
  },
  {
   "cell_type": "code",
   "execution_count": 5,
   "metadata": {},
   "outputs": [
    {
     "data": {
      "text/html": [
       "<div>\n",
       "<style scoped>\n",
       "    .dataframe tbody tr th:only-of-type {\n",
       "        vertical-align: middle;\n",
       "    }\n",
       "\n",
       "    .dataframe tbody tr th {\n",
       "        vertical-align: top;\n",
       "    }\n",
       "\n",
       "    .dataframe thead th {\n",
       "        text-align: right;\n",
       "    }\n",
       "</style>\n",
       "<table border=\"1\" class=\"dataframe\">\n",
       "  <thead>\n",
       "    <tr style=\"text-align: right;\">\n",
       "      <th></th>\n",
       "      <th>0</th>\n",
       "      <th>1</th>\n",
       "      <th>2</th>\n",
       "      <th>3</th>\n",
       "      <th>4</th>\n",
       "      <th>5</th>\n",
       "      <th>6</th>\n",
       "      <th>7</th>\n",
       "      <th>8</th>\n",
       "      <th>9</th>\n",
       "      <th>10</th>\n",
       "      <th>11</th>\n",
       "      <th>12</th>\n",
       "      <th>13</th>\n",
       "      <th>14</th>\n",
       "    </tr>\n",
       "  </thead>\n",
       "  <tbody>\n",
       "    <tr>\n",
       "      <th>0</th>\n",
       "      <td>39a</td>\n",
       "      <td>State-gov</td>\n",
       "      <td>50,000-100,000</td>\n",
       "      <td>Bachelors</td>\n",
       "      <td>13en</td>\n",
       "      <td>Never-married</td>\n",
       "      <td>Adm-clerical</td>\n",
       "      <td>Not-in-family</td>\n",
       "      <td>White</td>\n",
       "      <td>Male</td>\n",
       "      <td>2174cg</td>\n",
       "      <td>0cl</td>\n",
       "      <td>40hw</td>\n",
       "      <td>United-States</td>\n",
       "      <td>&lt;=50K</td>\n",
       "    </tr>\n",
       "    <tr>\n",
       "      <th>1</th>\n",
       "      <td>50a</td>\n",
       "      <td>Self-emp-not-inc</td>\n",
       "      <td>50,000-100,000</td>\n",
       "      <td>Bachelors</td>\n",
       "      <td>13en</td>\n",
       "      <td>Married-civ-spouse</td>\n",
       "      <td>Exec-managerial</td>\n",
       "      <td>Husband</td>\n",
       "      <td>White</td>\n",
       "      <td>Male</td>\n",
       "      <td>0cg</td>\n",
       "      <td>0cl</td>\n",
       "      <td>13hw</td>\n",
       "      <td>United-States</td>\n",
       "      <td>&lt;=50K</td>\n",
       "    </tr>\n",
       "    <tr>\n",
       "      <th>2</th>\n",
       "      <td>38a</td>\n",
       "      <td>Private</td>\n",
       "      <td>200,000-250,000</td>\n",
       "      <td>HS-grad</td>\n",
       "      <td>9en</td>\n",
       "      <td>Divorced</td>\n",
       "      <td>Handlers-cleaners</td>\n",
       "      <td>Not-in-family</td>\n",
       "      <td>White</td>\n",
       "      <td>Male</td>\n",
       "      <td>0cg</td>\n",
       "      <td>0cl</td>\n",
       "      <td>40hw</td>\n",
       "      <td>United-States</td>\n",
       "      <td>&lt;=50K</td>\n",
       "    </tr>\n",
       "    <tr>\n",
       "      <th>3</th>\n",
       "      <td>53a</td>\n",
       "      <td>Private</td>\n",
       "      <td>200,000-250,000</td>\n",
       "      <td>11th</td>\n",
       "      <td>7en</td>\n",
       "      <td>Married-civ-spouse</td>\n",
       "      <td>Handlers-cleaners</td>\n",
       "      <td>Husband</td>\n",
       "      <td>Black</td>\n",
       "      <td>Male</td>\n",
       "      <td>0cg</td>\n",
       "      <td>0cl</td>\n",
       "      <td>40hw</td>\n",
       "      <td>United-States</td>\n",
       "      <td>&lt;=50K</td>\n",
       "    </tr>\n",
       "    <tr>\n",
       "      <th>4</th>\n",
       "      <td>28a</td>\n",
       "      <td>Private</td>\n",
       "      <td>300,000-350,000</td>\n",
       "      <td>Bachelors</td>\n",
       "      <td>13en</td>\n",
       "      <td>Married-civ-spouse</td>\n",
       "      <td>Prof-specialty</td>\n",
       "      <td>Wife</td>\n",
       "      <td>Black</td>\n",
       "      <td>Female</td>\n",
       "      <td>0cg</td>\n",
       "      <td>0cl</td>\n",
       "      <td>40hw</td>\n",
       "      <td>Cuba</td>\n",
       "      <td>&lt;=50K</td>\n",
       "    </tr>\n",
       "  </tbody>\n",
       "</table>\n",
       "</div>"
      ],
      "text/plain": [
       "    0                  1                2           3     4   \\\n",
       "0  39a          State-gov   50,000-100,000   Bachelors  13en   \n",
       "1  50a   Self-emp-not-inc   50,000-100,000   Bachelors  13en   \n",
       "2  38a            Private  200,000-250,000     HS-grad   9en   \n",
       "3  53a            Private  200,000-250,000        11th   7en   \n",
       "4  28a            Private  300,000-350,000   Bachelors  13en   \n",
       "\n",
       "                    5                   6               7       8        9   \\\n",
       "0        Never-married        Adm-clerical   Not-in-family   White     Male   \n",
       "1   Married-civ-spouse     Exec-managerial         Husband   White     Male   \n",
       "2             Divorced   Handlers-cleaners   Not-in-family   White     Male   \n",
       "3   Married-civ-spouse   Handlers-cleaners         Husband   Black     Male   \n",
       "4   Married-civ-spouse      Prof-specialty            Wife   Black   Female   \n",
       "\n",
       "       10   11    12              13      14  \n",
       "0  2174cg  0cl  40hw   United-States   <=50K  \n",
       "1     0cg  0cl  13hw   United-States   <=50K  \n",
       "2     0cg  0cl  40hw   United-States   <=50K  \n",
       "3     0cg  0cl  40hw   United-States   <=50K  \n",
       "4     0cg  0cl  40hw            Cuba   <=50K  "
      ]
     },
     "execution_count": 5,
     "metadata": {},
     "output_type": "execute_result"
    }
   ],
   "source": [
    "final_data.head()"
   ]
  },
  {
   "cell_type": "code",
   "execution_count": 6,
   "metadata": {},
   "outputs": [],
   "source": [
    "def in_row(item, row_num, data):\n",
    "    for i in range(data.columns.size):\n",
    "        if item == data.iloc[row_num, i]:\n",
    "            return True"
   ]
  },
  {
   "cell_type": "code",
   "execution_count": 7,
   "metadata": {},
   "outputs": [],
   "source": [
    "class Node:\n",
    "    \n",
    "    def __init__(self, key, count, parent=None):\n",
    "        self.key = key\n",
    "        self.count = count\n",
    "        self.children = []\n",
    "        self.parent = parent\n",
    "        \n",
    "    def make_child(self, new_node):\n",
    "        self.children.append(new_node)\n",
    "        \n",
    "    def get_child(self, pos):\n",
    "        return self.children[pos]\n",
    "    \n",
    "    def num_child(self):\n",
    "        return len(self.children)\n",
    "        \n",
    "    def __repr__(self):\n",
    "        return (f\"{self.key}: {self.count} Children: {self.children}\")"
   ]
  },
  {
   "cell_type": "code",
   "execution_count": 8,
   "metadata": {},
   "outputs": [],
   "source": [
    "def Build_Tree(data, c1):\n",
    "    \n",
    "    root = Node(None, None)\n",
    "    node_pos = root\n",
    "    \n",
    "    for i in range(len(data)):\n",
    "        #print('here')\n",
    "        for j in range(len(c1)):\n",
    "            check = False\n",
    "            \n",
    "            if in_row(c1[j], i, data):\n",
    "                for k in range(node_pos.num_child()):\n",
    "                    \n",
    "                    if c1[j] == node_pos.get_child(k).key:\n",
    "                        node_pos.get_child(k).count += 1\n",
    "                        node_pos = node_pos.get_child(k)\n",
    "                        check=True\n",
    "                        \n",
    "                        if j == len(c1)-1:\n",
    "                            node_pos = root\n",
    "                        break\n",
    "                if not check:\n",
    "                    node_pos.make_child(Node(c1[j],1,node_pos))\n",
    "                    node_pos = node_pos.get_child(-1)\n",
    "                    \n",
    "        node_pos = root\n",
    "        \n",
    "    return root"
   ]
  },
  {
   "cell_type": "code",
   "execution_count": 9,
   "metadata": {},
   "outputs": [],
   "source": [
    "def base_node_gen(root):\n",
    "    \n",
    "    base_nodes = []\n",
    "    \n",
    "    def mine_base_node(node):\n",
    "        if node.children == []:\n",
    "            base_nodes.append(node)\n",
    "        else:\n",
    "            for i in node.children:\n",
    "                mine_base_node(i)\n",
    "                \n",
    "    mine_base_node(root)\n",
    "    \n",
    "    return base_nodes"
   ]
  },
  {
   "cell_type": "code",
   "execution_count": 10,
   "metadata": {},
   "outputs": [],
   "source": [
    "def gen_our_nodes(base_nodes, keyval):\n",
    "    \n",
    "    our_nodes = []\n",
    "    \n",
    "    def gen_node(node, v):\n",
    "        if node.key == v:\n",
    "            return node\n",
    "        elif node.key == None:\n",
    "            return None\n",
    "        else:\n",
    "            return gen_node(node.parent, v)\n",
    "    \n",
    "    #key=keyval\n",
    "    \n",
    "    for k in keyval:\n",
    "        for i in base_nodes:\n",
    "            var = gen_node(i, k)\n",
    "\n",
    "            if var != None and var not in our_nodes:\n",
    "                our_nodes.append(var)\n",
    "            \n",
    "    return our_nodes"
   ]
  },
  {
   "cell_type": "code",
   "execution_count": 11,
   "metadata": {},
   "outputs": [],
   "source": [
    "def build_count_c1_list(data, min_sup):\n",
    "    d_C1 = {}\n",
    "    \n",
    "    for i in range(len(data)):\n",
    "        for j in range(data.columns.size):\n",
    "            if data.iloc[i,j] not in d_C1:\n",
    "                d_C1[data.iloc[i,j]] = 1\n",
    "            else:\n",
    "                d_C1[data.iloc[i,j]] += 1\n",
    "                \n",
    "                \n",
    "    min_sup_number = len(data)*min_sup\n",
    "    keys_list = list(d_C1.keys())\n",
    "    \n",
    "    # apply minsup\n",
    "    d_C1_f = {}\n",
    "    for i in keys_list:\n",
    "        if int(d_C1[i]) >= min_sup_number:\n",
    "            d_C1_f[i] = d_C1[i]\n",
    "    #print(\"Frequency set length {} with frequency:\".format(z),d_C1_f)\n",
    "    return d_C1_f"
   ]
  },
  {
   "cell_type": "code",
   "execution_count": 12,
   "metadata": {},
   "outputs": [],
   "source": [
    "from itertools import chain, combinations\n",
    "def subset(iterable):\n",
    "    s = list(iterable)\n",
    "    return chain.from_iterable(combinations(s, r) for r in range(1,len(s)+1))"
   ]
  },
  {
   "cell_type": "code",
   "execution_count": 13,
   "metadata": {},
   "outputs": [],
   "source": [
    "def final(int_node_list):\n",
    "    \n",
    "    final_d = {}\n",
    "    \n",
    "    def frequent_pattern(node):\n",
    "        if node.key != None:\n",
    "            nlist.append(node.key)\n",
    "            return frequent_pattern(node.parent)\n",
    "        elif node.key == None:\n",
    "            None\n",
    "        else:\n",
    "            return frequent_pattern(node.parent)\n",
    "            \n",
    "    for node in int_node_list:\n",
    "        nlist = []\n",
    "        frequent_pattern(node)\n",
    "\n",
    "        for sub in subset(nlist):\n",
    "            flist = sub\n",
    "            #print(flist)\n",
    "            \n",
    "            if flist in final_d.keys():\n",
    "                final_d[flist] += node.count\n",
    "            else:\n",
    "                final_d[flist] = node.count\n",
    "                \n",
    "    return final_d"
   ]
  },
  {
   "cell_type": "code",
   "execution_count": 14,
   "metadata": {},
   "outputs": [],
   "source": [
    "def Z_FP_Growth(data, min_sup):\n",
    "\n",
    "    # gen, count, and apply minsup on candidate keys\n",
    "    Lk = build_count_c1_list(data, min_sup)\n",
    "    #print(Lk)\n",
    "\n",
    "    # take unordered list with counts that passed minsup and return items from highest to lowest count\n",
    "    sorted_x = sorted(Lk.items(), key=operator.itemgetter(1), reverse=True)\n",
    "    ordered = sorted_dict = collections.OrderedDict(sorted_x)\n",
    "    list_of_keys_descending = list(ordered.keys())\n",
    "    #print(list_of_keys_descending)\n",
    "\n",
    "    # build tree called tree - tree shows look at root which has all children and counts\n",
    "    tree = Build_Tree(data, list_of_keys_descending)\n",
    "    #print(tree)\n",
    "    \n",
    "    # input tree and find list of base nodes\n",
    "    bnode_list = base_node_gen(tree)\n",
    "    #print(bnode_list)\n",
    "    \n",
    "    # take base nodes and return list of all nodes with their cascade\n",
    "    # first switch list_of_keys_descending to ascending\n",
    "    list_of_keys_descending.reverse()\n",
    "    \n",
    "    # proceed with generating nodes\n",
    "    int_nodes = gen_our_nodes(bnode_list, list_of_keys_descending)\n",
    "    #print(int_nodes)\n",
    "    \n",
    "    # take list of all nodes and generate frequent itemset patterns\n",
    "    return final(int_nodes)\n",
    "    "
   ]
  },
  {
   "cell_type": "code",
   "execution_count": 24,
   "metadata": {},
   "outputs": [
    {
     "data": {
      "text/plain": [
       "{(' White',): 27816,\n",
       " (' United-States',): 54791,\n",
       " ('0cl',): 113633,\n",
       " (' White', ' United-States'): 25621,\n",
       " (' White', '0cl'): 26470,\n",
       " (' United-States', '0cl'): 52140,\n",
       " (' White', ' United-States', '0cl'): 24349,\n",
       " ('0cg',): 81955,\n",
       " (' White', '0cg'): 25407,\n",
       " (' United-States', '0cg'): 50068,\n",
       " ('0cg', '0cl'): 77711,\n",
       " (' White', ' United-States', '0cg'): 23369,\n",
       " (' White', '0cg', '0cl'): 24061,\n",
       " (' United-States', '0cg', '0cl'): 47417,\n",
       " (' White', ' United-States', '0cg', '0cl'): 22097}"
      ]
     },
     "execution_count": 24,
     "metadata": {},
     "output_type": "execute_result"
    }
   ],
   "source": [
    "Z_FP_Growth(final_data, 0.8)"
   ]
  },
  {
   "cell_type": "code",
   "execution_count": 16,
   "metadata": {},
   "outputs": [],
   "source": [
    "import time"
   ]
  },
  {
   "cell_type": "code",
   "execution_count": 17,
   "metadata": {},
   "outputs": [
    {
     "name": "stdout",
     "output_type": "stream",
     "text": [
      "Time:  13.420400857925415\n"
     ]
    }
   ],
   "source": [
    "start = time.time()\n",
    "\n",
    "Z_FP_Growth(final_data, 0.9)\n",
    "\n",
    "end = time.time()\n",
    "\n",
    "time_taken = end - start\n",
    "print('Time: ',time_taken)"
   ]
  },
  {
   "cell_type": "code",
   "execution_count": 18,
   "metadata": {},
   "outputs": [],
   "source": [
    "# randomly sampling 5000 rows from Adult Dataframe to run timing tests\n",
    "data5k = final_data.sample(n=5000)"
   ]
  },
  {
   "cell_type": "code",
   "execution_count": 19,
   "metadata": {},
   "outputs": [
    {
     "name": "stdout",
     "output_type": "stream",
     "text": [
      "Time:  4.106703042984009\n"
     ]
    }
   ],
   "source": [
    "start = time.time()\n",
    "\n",
    "Z_FP_Growth(data5k, 0.5)\n",
    "\n",
    "end = time.time()\n",
    "\n",
    "time_taken = end - start\n",
    "print('Time: ',time_taken)"
   ]
  },
  {
   "cell_type": "code",
   "execution_count": 20,
   "metadata": {},
   "outputs": [],
   "source": [
    "# generate graphs\n",
    "minsup = (.5,.6,.7,.8,.9)\n",
    "ap_full = (14.97, 57.78, 128.28, 306.73, 437.57)\n",
    "iap_full = (13.95, 57.88, 126.60, 308.39, 411.21)\n",
    "fp_full = (12.8, 18.45, 21.63, 25.55, 26.06)\n",
    "\n",
    "a_5 = (2.24, 9.41, 20.14, 47.32, 67.24)\n",
    "f_5 = (1.99, 2.8, 3.38, 3.96, 4.09)"
   ]
  },
  {
   "cell_type": "code",
   "execution_count": 21,
   "metadata": {},
   "outputs": [],
   "source": [
    "import matplotlib.pyplot as plt\n",
    "import seaborn as sns\n",
    "sns.set()"
   ]
  },
  {
   "cell_type": "code",
   "execution_count": 22,
   "metadata": {},
   "outputs": [
    {
     "data": {
      "image/png": "[encoded data removed]",
      "text/plain": [
       "<Figure size 432x288 with 1 Axes>"
      ]
     },
     "metadata": {},
     "output_type": "display_data"
    }
   ],
   "source": [
    "plt.plot(minsup, ap_full, color='b', marker='o', linestyle='dashed', linewidth=1, markersize=5)\n",
    "plt.plot(minsup, iap_full, color='g', marker='o', linestyle='dashed', linewidth=1, markersize=5)\n",
    "plt.plot(minsup, fp_full, color='r', marker='o', linestyle='dashed', linewidth=1, markersize=5)\n",
    "plt.xlabel('Minimum Support')\n",
    "plt.ylabel('Runtime (seconds)')\n",
    "plt.title('Runtime Performance Testing')\n",
    "plt.legend((['Apriori','Improved','FP-Growth']),loc=2, fontsize='small')\n",
    "plt.savefig('FullTest')\n",
    "plt.show()"
   ]
  },
  {
   "cell_type": "code",
   "execution_count": 23,
   "metadata": {},
   "outputs": [
    {
     "data": {
      "image/png": "[encoded data removed]",
      "text/plain": [
       "<Figure size 432x288 with 1 Axes>"
      ]
     },
     "metadata": {},
     "output_type": "display_data"
    }
   ],
   "source": [
    "plt.plot(minsup, a_5, color='b', marker='o', linestyle='dashed', linewidth=1, markersize=5)\n",
    "plt.plot(minsup, f_5, color='r', marker='o', linestyle='dashed', linewidth=1, markersize=5)\n",
    "plt.xlabel('Minimum Support')\n",
    "plt.ylabel('Runtime (seconds)')\n",
    "plt.title('Runtime Performance Testing on Sampled Data')\n",
    "plt.legend((['Apriori','FP-Growth']),loc=2, fontsize='small')\n",
    "plt.savefig('5kTest')\n",
    "plt.show()"
   ]
  },
  {
   "cell_type": "code",
   "execution_count": null,
   "metadata": {},
   "outputs": [],
   "source": []
  }
 ],
 "metadata": {
  "kernelspec": {
   "display_name": "Python 3 (ipykernel)",
   "language": "python",
   "name": "python3"
  },
  "language_info": {
   "codemirror_mode": {
    "name": "ipython",
    "version": 3
   },
   "file_extension": ".py",
   "mimetype": "text/x-python",
   "name": "python",
   "nbconvert_exporter": "python",
   "pygments_lexer": "ipython3",
   "version": "3.9.7"
  }
 },
 "nbformat": 4,
 "nbformat_minor": 2
}
